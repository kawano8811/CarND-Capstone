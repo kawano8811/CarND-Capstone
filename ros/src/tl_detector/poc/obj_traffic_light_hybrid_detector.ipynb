{
 "cells": [
  {
   "cell_type": "markdown",
   "metadata": {},
   "source": [
    "# Object Detection - Traffic Light Hybrid Detector\n",
    "\n",
    "#### -- Proof of Concept --\n",
    "\n",
    "For compatibility with **TensorFlow 1.3**, checkout branch `1f34fcafc1454e0d31ab4a6cc022102a54ac0f5b` for https://github.com/tensorflow/models:\n",
    "\n",
    "`git clone https://github.com/tensorflow/models.git`\n",
    "\n",
    "then\n",
    "\n",
    "`git checkout 1f34fcafc1454e0d31ab4a6cc022102a54ac0f5b`\n",
    "\n",
    "Follow the [installation instructions](https://github.com/tensorflow/models/blob/1f34fcafc1454e0d31ab4a6cc022102a54ac0f5b/research/object_detection/g3doc/installation.md) before you start.\n",
    "\n",
    "NOTE: Easiest way to make this notebook runnable is to drop a copy of this into the **your_tensorflow_model_location/models/research/object_detection/ directory**"
   ]
  },
  {
   "cell_type": "markdown",
   "metadata": {},
   "source": [
    "# Imports"
   ]
  },
  {
   "cell_type": "code",
   "execution_count": 41,
   "metadata": {
    "collapsed": true,
    "scrolled": true
   },
   "outputs": [],
   "source": [
    "import numpy as np\n",
    "import os\n",
    "import six.moves.urllib as urllib\n",
    "import sys\n",
    "import tarfile\n",
    "import tensorflow as tf\n",
    "import zipfile\n",
    "import cv2\n",
    "import calendar\n",
    "import time\n",
    "\n",
    "from collections import defaultdict\n",
    "from io import StringIO\n",
    "from matplotlib import pyplot as plt\n",
    "from PIL import Image\n",
    "\n",
    "# This is needed since the notebook is stored in the object_detection folder.\n",
    "sys.path.append(\"..\")\n",
    "#from object_detection.utils import ops as utils_ops\n"
   ]
  },
  {
   "cell_type": "markdown",
   "metadata": {},
   "source": [
    "## Env setup"
   ]
  },
  {
   "cell_type": "code",
   "execution_count": 42,
   "metadata": {
    "collapsed": true
   },
   "outputs": [],
   "source": [
    "# This is needed to display the images.\n",
    "%matplotlib inline"
   ]
  },
  {
   "cell_type": "markdown",
   "metadata": {},
   "source": [
    "## Object detection imports\n",
    "Here are the imports from the object detection module."
   ]
  },
  {
   "cell_type": "code",
   "execution_count": 25,
   "metadata": {
    "collapsed": true
   },
   "outputs": [],
   "source": [
    "#from utils import label_map_util\n",
    "\n",
    "#from utils import visualization_utils as vis_util"
   ]
  },
  {
   "cell_type": "markdown",
   "metadata": {},
   "source": [
    "# Model preparation "
   ]
  },
  {
   "cell_type": "markdown",
   "metadata": {},
   "source": [
    "## Variables\n",
    "\n",
    "Any model exported using the `export_inference_graph.py` tool can be loaded here simply by changing `PATH_TO_CKPT` to point to a new .pb file.  \n",
    "\n",
    "By default we use an \"SSD with Mobilenet\" model here. See the [detection model zoo](https://github.com/tensorflow/models/blob/master/research/object_detection/g3doc/detection_model_zoo.md) for a list of other models that can be run out-of-the-box with varying speeds and accuracies."
   ]
  },
  {
   "cell_type": "code",
   "execution_count": 51,
   "metadata": {
    "collapsed": true
   },
   "outputs": [],
   "source": [
    "# What model to download.\n",
    "# These are from git branch 1f34fcafc1454e0d31ab4a6cc022102a54ac0f5b\n",
    "#MODEL_NAME = 'rfcn_resnet101_coco_2017_11_08' # inference takes ~ 7~11 sec per evaluation...way too slow\n",
    "#MODEL_NAME = 'faster_rcnn_inception_v2_coco_2017_11_08' # inference takes ~ 5 sec per evaluation...better\n",
    "MODEL_NAME = 'ssd_inception_v2_coco_2017_11_17' # inference takes ~ 1-2 sec per evaluation...much better!\n",
    "\n",
    "MODEL_FILE = MODEL_NAME + '.tar.gz'\n",
    "DOWNLOAD_BASE = 'http://download.tensorflow.org/models/object_detection/'\n",
    "\n",
    "# Path to frozen detection graph. This is the actual model that is used for the object detection.\n",
    "PATH_TO_CKPT = MODEL_NAME + '/frozen_inference_graph.pb'\n",
    "\n",
    "# List of the strings that is used to add correct label for each box.\n",
    "#PATH_TO_LABELS = os.path.join('data', 'mscoco_label_map.pbtxt')\n",
    "\n",
    "#NUM_CLASSES = 90\n"
   ]
  },
  {
   "cell_type": "markdown",
   "metadata": {},
   "source": [
    "## Download Model"
   ]
  },
  {
   "cell_type": "code",
   "execution_count": 52,
   "metadata": {},
   "outputs": [
    {
     "name": "stdout",
     "output_type": "stream",
     "text": [
      "Downloading http://download.tensorflow.org/models/object_detection/ssd_inception_v2_coco_2017_11_17.tar.gz\n"
     ]
    }
   ],
   "source": [
    "if not os.path.exists(MODEL_FILE):    \n",
    "    print(\"Downloading {}\".format(DOWNLOAD_BASE + MODEL_FILE))\n",
    "    opener = urllib.request.URLopener()\n",
    "    opener.retrieve(DOWNLOAD_BASE + MODEL_FILE, MODEL_FILE)\n",
    "    tar_file = tarfile.open(MODEL_FILE)\n",
    "    for file in tar_file.getmembers():\n",
    "      file_name = os.path.basename(file.name)\n",
    "      if 'frozen_inference_graph.pb' in file_name:\n",
    "        tar_file.extract(file, os.getcwd())"
   ]
  },
  {
   "cell_type": "markdown",
   "metadata": {},
   "source": [
    "## Load a (frozen) Tensorflow model into memory."
   ]
  },
  {
   "cell_type": "code",
   "execution_count": 53,
   "metadata": {},
   "outputs": [
    {
     "name": "stdout",
     "output_type": "stream",
     "text": [
      "CKPT ssd_inception_v2_coco_2017_11_17/frozen_inference_graph.pb\n"
     ]
    }
   ],
   "source": [
    "print(\"CKPT {}\".format(PATH_TO_CKPT))\n",
    "detection_graph = tf.Graph()\n",
    "with detection_graph.as_default():\n",
    "  od_graph_def = tf.GraphDef()\n",
    "  with tf.gfile.GFile(PATH_TO_CKPT, 'rb') as fid:\n",
    "    serialized_graph = fid.read()\n",
    "    od_graph_def.ParseFromString(serialized_graph)\n",
    "    tf.import_graph_def(od_graph_def, name='')"
   ]
  },
  {
   "cell_type": "markdown",
   "metadata": {},
   "source": [
    "## Loading label map\n",
    "Label maps map indices to category names, so that when our convolution network predicts `5`, we know that this corresponds to `airplane`.  Here we use internal utility functions, but anything that returns a dictionary mapping integers to appropriate string labels would be fine"
   ]
  },
  {
   "cell_type": "code",
   "execution_count": 29,
   "metadata": {
    "collapsed": true
   },
   "outputs": [],
   "source": [
    "\"\"\"\n",
    "label_map = label_map_util.load_labelmap(PATH_TO_LABELS)\n",
    "categories = label_map_util.convert_label_map_to_categories(label_map, max_num_classes=NUM_CLASSES, use_display_name=True)\n",
    "category_index = label_map_util.create_category_index(categories)\n",
    "\"\"\""
   ]
  },
  {
   "cell_type": "markdown",
   "metadata": {},
   "source": [
    "## Helper code"
   ]
  },
  {
   "cell_type": "code",
   "execution_count": 46,
   "metadata": {
    "collapsed": true
   },
   "outputs": [],
   "source": [
    "def load_image_into_numpy_array(image):\n",
    "  (im_width, im_height) = image.size\n",
    "  return np.array(image.getdata()).reshape(\n",
    "      (im_height, im_width, 3)).astype(np.uint8)"
   ]
  },
  {
   "cell_type": "markdown",
   "metadata": {},
   "source": [
    "# Detection"
   ]
  },
  {
   "cell_type": "code",
   "execution_count": 47,
   "metadata": {
    "collapsed": true
   },
   "outputs": [],
   "source": [
    "# For the sake of simplicity we will use only 2 images:\n",
    "# image1.jpg\n",
    "# image2.jpg\n",
    "# If you want to test the code with your images, just add path to the images to the TEST_IMAGE_PATHS.\n",
    "PATH_TO_TEST_IMAGES_DIR = 'test_images'\n",
    "N = 6\n",
    "TEST_IMAGE_PATHS = [ os.path.join(PATH_TO_TEST_IMAGES_DIR, 'image{}.jpg'.format(i)) for i in range(3, N+1) ]\n",
    "\n",
    "# Size, in inches, of the output images.\n",
    "IMAGE_SIZE = (12, 8)"
   ]
  },
  {
   "cell_type": "code",
   "execution_count": 48,
   "metadata": {
    "collapsed": true
   },
   "outputs": [],
   "source": [
    "def run_inference_for_single_image(image, graph):\n",
    "  with graph.as_default():\n",
    "    with tf.Session() as sess:\n",
    "      # Get handles to input and output tensors\n",
    "      ops = tf.get_default_graph().get_operations()\n",
    "      all_tensor_names = {output.name for op in ops for output in op.outputs}\n",
    "      tensor_dict = {}\n",
    "      for key in [\n",
    "          'num_detections', 'detection_boxes', 'detection_scores',\n",
    "          'detection_classes'\n",
    "      ]:\n",
    "        tensor_name = key + ':0'\n",
    "        if tensor_name in all_tensor_names:\n",
    "          tensor_dict[key] = tf.get_default_graph().get_tensor_by_name(\n",
    "              tensor_name)\n",
    "    \n",
    "      image_tensor = tf.get_default_graph().get_tensor_by_name('image_tensor:0')\n",
    "\n",
    "      # Run inference\n",
    "      output_dict = sess.run(tensor_dict,\n",
    "                             feed_dict={image_tensor: np.expand_dims(image, 0)})\n",
    "\n",
    "      # all outputs are float32 numpy arrays, so convert types as appropriate\n",
    "      output_dict['num_detections'] = int(output_dict['num_detections'][0])\n",
    "      output_dict['detection_classes'] = output_dict[\n",
    "          'detection_classes'][0].astype(np.uint8)\n",
    "      output_dict['detection_boxes'] = output_dict['detection_boxes'][0]\n",
    "      output_dict['detection_scores'] = output_dict['detection_scores'][0]\n",
    "\n",
    "  return output_dict"
   ]
  },
  {
   "cell_type": "code",
   "execution_count": 49,
   "metadata": {
    "collapsed": true
   },
   "outputs": [],
   "source": [
    "def is_yellow(r, g, b):\n",
    "    return r > 200 and g > 200 and b < 80\n",
    "\n",
    "def is_green(r, g, b):\n",
    "    return r < 70 and g > 120 and b < 90\n",
    "    \n",
    "def is_red(r, g, b):\n",
    "    return r > 120 and g < 50 and b < 50"
   ]
  },
  {
   "cell_type": "code",
   "execution_count": 55,
   "metadata": {
    "scrolled": false
   },
   "outputs": [
    {
     "name": "stdout",
     "output_type": "stream",
     "text": [
      ">>> Image: test_images/image3.jpg...\n",
      "---Total inference time: 1\n",
      "box  : [0.44152412 0.16562721 0.6187773  0.2248151 ]\n",
      "class: 10\n",
      "score: 0.752134084702\n"
     ]
    },
    {
     "data": {
      "image/png": "[encoded data removed]",
      "text/plain": [
       "<Figure size 432x288 with 1 Axes>"
      ]
     },
     "metadata": {},
     "output_type": "display_data"
    },
    {
     "name": "stdout",
     "output_type": "stream",
     "text": [
      "[ 45 255  72]\n",
      "color: [ 45 255  72]\n",
      "Green\n",
      "---Total cv2 time: 0\n",
      "\n",
      "\n",
      ">>> Image: test_images/image4.jpg...\n",
      "---Total inference time: 1\n",
      "box  : [0.00305961 0.34357622 0.20779121 0.49613854]\n",
      "class: 10\n",
      "score: 0.77329480648\n"
     ]
    },
    {
     "data": {
      "image/png": "[encoded data removed]",
      "text/plain": [
       "<Figure size 432x288 with 1 Axes>"
      ]
     },
     "metadata": {},
     "output_type": "display_data"
    },
    {
     "name": "stdout",
     "output_type": "stream",
     "text": [
      "[ 43 250  71]\n",
      "color: [ 43 250  71]\n",
      "Green\n",
      "---Total cv2 time: 0\n",
      "\n",
      "\n",
      ">>> Image: test_images/image5.jpg...\n",
      "---Total inference time: 1\n",
      "box  : [0.2597405  0.4027253  0.53930926 0.49257466]\n",
      "class: 10\n",
      "score: 0.819890320301\n"
     ]
    },
    {
     "data": {
      "image/png": "[encoded data removed]",
      "text/plain": [
       "<Figure size 432x288 with 1 Axes>"
      ]
     },
     "metadata": {},
     "output_type": "display_data"
    },
    {
     "name": "stdout",
     "output_type": "stream",
     "text": [
      "[245  40  35]\n",
      "color: [245  40  35]\n",
      "Red\n",
      "---Total cv2 time: 0\n",
      "\n",
      "\n",
      ">>> Image: test_images/image6.jpg...\n",
      "---Total inference time: 2\n",
      "box  : [0.6006544  0.6277741  0.7517504  0.67404485]\n",
      "class: 10\n",
      "score: 0.91958540678\n"
     ]
    },
    {
     "data": {
      "image/png": "[encoded data removed]",
      "text/plain": [
       "<Figure size 432x288 with 1 Axes>"
      ]
     },
     "metadata": {},
     "output_type": "display_data"
    },
    {
     "name": "stdout",
     "output_type": "stream",
     "text": [
      "[255 253  54]\n",
      "color: [255 253  54]\n",
      "Yellow\n",
      "---Total cv2 time: 0\n",
      "\n",
      "\n"
     ]
    }
   ],
   "source": [
    "for image_path in TEST_IMAGE_PATHS:\n",
    "  image = Image.open(image_path)\n",
    "  print(\">>> Image: {}...\".format(image_path))\n",
    "  # the array based representation of the image will be used later in order to prepare the\n",
    "  # result image with boxes and labels on it.\n",
    "  image_np = load_image_into_numpy_array(image)\n",
    "  #print(image_np.shape)\n",
    "  # Expand dimensions since the model expects images to have shape: [1, None, None, 3]\n",
    "  image_np_expanded = np.expand_dims(image_np, axis=0)\n",
    "  # Actual detection.\n",
    "  inf_start_t = calendar.timegm(time.localtime())\n",
    "  output_dict = run_inference_for_single_image(image_np, detection_graph)\n",
    "  time_t = calendar.timegm(time.localtime())\n",
    "  print(\"---Total inference time: {}\".format(time_t - inf_start_t))\n",
    "\n",
    "  # CV2 processing to get the color\n",
    "  cv2_start_t = calendar.timegm(time.localtime())\n",
    "  boxes = output_dict['detection_boxes']\n",
    "  clazzes = output_dict['detection_classes']\n",
    "  scores = output_dict['detection_scores']\n",
    "\n",
    "  # Get the detected box with the highest score over minimum threshold\n",
    "  MIN_THRESHOLD = 0.50\n",
    "  CLASS_TRAFFIC_LIGHT = 10\n",
    "\n",
    "  max_score_indx = np.argmax(scores)\n",
    "  score = scores[max_score_indx]\n",
    "  clazz = clazzes[max_score_indx]\n",
    "  \n",
    "  if score > MIN_THRESHOLD and clazz == CLASS_TRAFFIC_LIGHT:\n",
    "      box = boxes[max_score_indx]\n",
    "      print(\"box  : {}\".format(box))\n",
    "      print(\"class: {}\".format(clazz))\n",
    "      print(\"score: {}\".format(score))\n",
    "        \n",
    "      # Determine color of the light\n",
    "      # box array ([ymin, xmin, ymax, xmax])     \n",
    "      \n",
    "      height = image_np.shape[0]\n",
    "      width = image_np.shape[1]\n",
    "      # box values are normalized so need to denormalize them\n",
    "      # to get the right coordinates from the image \n",
    "      ymin = int(box[0] * height)\n",
    "      xmin = int(box[1] * width)\n",
    "      ymax = int(box[2] * height)\n",
    "      xmax = int(box[3] * width)\n",
    "      TRIM = 2\n",
    "      tl_box = image_np[ymin+TRIM:ymax-TRIM, xmin+TRIM:xmax-TRIM]\n",
    "      \n",
    "      tl_box_copy = tl_box.copy()\n",
    "      gray_tl = cv2.cvtColor(tl_box, cv2.COLOR_RGB2GRAY)\n",
    "      \n",
    "      BLUR_RADIUS = 41\n",
    "      gray_tl = cv2.GaussianBlur(gray_tl, (BLUR_RADIUS, BLUR_RADIUS), 0)\n",
    "      (minVal, maxVal, minLoc, maxLoc) = cv2.minMaxLoc(gray_tl)\n",
    "      tl_copy = tl_box_copy.copy()\n",
    "      cv2.circle(tl_copy, maxLoc, 15, (0, 0, 255), 2)\n",
    "      plt.imshow(tl_copy)\n",
    "      plt.show()\n",
    "      \n",
    "      y,x = maxLoc\n",
    "\n",
    "      print(tl_copy[x, y, :])\n",
    "      color = tl_copy[x, y, :]\n",
    "      r = color[0]\n",
    "      g = color[1]\n",
    "      b = color[2]\n",
    "      print(\"color: {}\".format(color))\n",
    "      if is_red(r,g,b):\n",
    "          print(\"Red\")\n",
    "      elif is_yellow(r,g,b):\n",
    "          print(\"Yellow\")\n",
    "      elif is_green(r,g,b):\n",
    "          print(\"Green\")\n",
    "      else:\n",
    "          print(\"Unknown\")\n",
    "            \n",
    "  time_t = calendar.timegm(time.localtime())\n",
    "  print(\"---Total cv2 time: {}\".format(time_t - cv2_start_t))\n",
    "  print(\"\\n\")\n",
    "    "
   ]
  },
  {
   "cell_type": "code",
   "execution_count": null,
   "metadata": {
    "collapsed": true
   },
   "outputs": [],
   "source": []
  }
 ],
 "metadata": {
  "colab": {
   "version": "0.3.2"
  },
  "kernelspec": {
   "display_name": "Python 3",
   "language": "python",
   "name": "python3"
  },
  "language_info": {
   "codemirror_mode": {
    "name": "ipython",
    "version": 3
   },
   "file_extension": ".py",
   "mimetype": "text/x-python",
   "name": "python",
   "nbconvert_exporter": "python",
   "pygments_lexer": "ipython3",
   "version": "3.6.1"
  }
 },
 "nbformat": 4,
 "nbformat_minor": 2
}
